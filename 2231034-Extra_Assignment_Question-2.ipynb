{
 "cells": [
  {
   "cell_type": "code",
   "execution_count": 4,
   "id": "4e620fb6-2931-48fc-973c-295a2265319b",
   "metadata": {},
   "outputs": [
    {
     "name": "stdout",
     "output_type": "stream",
     "text": [
      "0\n",
      "1\n",
      "2\n",
      "3\n",
      "4\n",
      "5\n",
      "6\n",
      "7\n",
      "8\n",
      "9\n",
      "10\n",
      "11\n",
      "12\n",
      "13\n",
      "14\n",
      "15\n",
      "16\n",
      "17\n",
      "18\n",
      "19\n"
     ]
    }
   ],
   "source": [
    " # print 0 to 20 by using range\n",
    "for temp in range(0,20):\n",
    "    print(temp)\n"
   ]
  },
  {
   "cell_type": "code",
   "execution_count": 8,
   "id": "8c79ac69-48db-46d1-8782-6bdb3dc4bad1",
   "metadata": {},
   "outputs": [
    {
     "name": "stdout",
     "output_type": "stream",
     "text": [
      "10 11 12 13 14 15 16 17 18 19 20 "
     ]
    }
   ],
   "source": [
    "# print range 10 to 20\n",
    "for temp in range(10,21):\n",
    "    print(temp, end=\" \") "
   ]
  },
  {
   "cell_type": "code",
   "execution_count": 11,
   "id": "c5ed01c6-6946-4b85-87c0-201b9e1bc1ce",
   "metadata": {},
   "outputs": [
    {
     "name": "stdout",
     "output_type": "stream",
     "text": [
      "Number of Items in the List2:  8\n"
     ]
    }
   ],
   "source": [
    "# Print number of items in the list by using 'len'\n",
    "my_list = [10, 20, 14, 55, 43, 87, 76,]\n",
    "print(\"Number of Items in the List2: \",len(my_list)) "
   ]
  },
  {
   "cell_type": "code",
   "execution_count": 12,
   "id": "b8192213-a2a4-4974-9329-cc25e05dfe2a",
   "metadata": {},
   "outputs": [
    {
     "name": "stdout",
     "output_type": "stream",
     "text": [
      "Artificial Intelligence\n",
      "A\n",
      "r\n",
      "t\n",
      "i\n",
      "f\n",
      "i\n",
      "c\n",
      "i\n",
      "a\n",
      "l\n",
      " \n",
      "I\n",
      "n\n",
      "t\n",
      "e\n",
      "l\n",
      "l\n",
      "i\n",
      "g\n",
      "e\n",
      "n\n",
      "c\n",
      "e\n"
     ]
    }
   ],
   "source": [
    "#Artificial Intelligence\n",
    "dom = \"Artificial Intelligence\"\n",
    "print(dom)\n",
    "for temp in dom :\n",
    "    print(temp)\n"
   ]
  },
  {
   "cell_type": "code",
   "execution_count": 26,
   "id": "1cd58a06-2b51-4f49-8efe-67c4f6d97b10",
   "metadata": {},
   "outputs": [
    {
     "name": "stdout",
     "output_type": "stream",
     "text": [
      "-your Name-\n",
      "-Your Age-\n",
      "-Your profession-\n",
      "Ranjith Prasath\n",
      "21\n",
      "Student\n"
     ]
    }
   ],
   "source": [
    "#-Your Name-\n",
    "#-Your Age-\n",
    "#-Your Profession-\n",
    "print(\"-your Name-\")\n",
    "print(\"-Your Age-\")\n",
    "print(\"-Your profession-\")\n",
    "#or \n",
    "print(\"Ranjith Prasath\")\n",
    "print(21)\n",
    "print(\"Student\")\n"
   ]
  },
  {
   "cell_type": "code",
   "execution_count": 14,
   "id": "dd0357b8-93cb-43ed-a5e9-1986b39b1c86",
   "metadata": {},
   "outputs": [
    {
     "name": "stdout",
     "output_type": "stream",
     "text": [
      "(1, 'Welcome', 2, 'Hope')\n"
     ]
    }
   ],
   "source": [
    "# Print yhis mixered datatype using Tuples\n",
    "list1 = (1, 'Welcome', 2, 'Hope')\n",
    "print((list1))"
   ]
  },
  {
   "cell_type": "code",
   "execution_count": 15,
   "id": "ddec4ea6-3213-4269-9ad4-50c92a4cf4ea",
   "metadata": {},
   "outputs": [
    {
     "name": "stdout",
     "output_type": "stream",
     "text": [
      "((0, 1, 2, 3), ('Python', 'Hope'))\n"
     ]
    }
   ],
   "source": [
    "#Tuple1 = (0, 1, 2, 3)\n",
    "Tuple1 = (0, 1, 2, 3)\n",
    "Tuple2 = ('Python', 'Hope')\n",
    "Tuple3 = (Tuple1, Tuple2)\n",
    "print(Tuple3)"
   ]
  },
  {
   "cell_type": "code",
   "execution_count": 23,
   "id": "34d73c92-9c4c-4644-92b2-91b347c9d8e4",
   "metadata": {},
   "outputs": [
    {
     "name": "stdout",
     "output_type": "stream",
     "text": [
      "(20, 10, 16, 19, 25, 1, 276, 188)\n",
      "19  is odd\n",
      "25  is odd\n",
      "1  is odd\n"
     ]
    }
   ],
   "source": [
    "# print Odd Numbers in the list\n",
    "list4 = (20,10,16,19,25,1,276,188)\n",
    "print(list4)\n",
    "for temp in (list4) :\n",
    "    if( temp % 2 == 1):\n",
    "        print(temp ,\" is odd\")"
   ]
  },
  {
   "cell_type": "code",
   "execution_count": 24,
   "id": "826e1b52-d2c8-47de-8f2d-c7fdf36ff83c",
   "metadata": {},
   "outputs": [
    {
     "name": "stdout",
     "output_type": "stream",
     "text": [
      "(20, 10, 16, 19, 25, 1, 276, 188)\n",
      "20  is even\n",
      "10  is even\n",
      "16  is even\n",
      "276  is even\n",
      "188  is even\n"
     ]
    }
   ],
   "source": [
    "# print Even numbers in the list\n",
    "list4 = (20,10,16,19,25,1,276,188)\n",
    "print(list4)\n",
    "for temp in (list4) :\n",
    "    if( temp % 2 == 0):\n",
    "        print(temp ,\" is even\")"
   ]
  },
  {
   "cell_type": "code",
   "execution_count": null,
   "id": "984f164a-a881-4759-8924-59c587b9f9de",
   "metadata": {},
   "outputs": [],
   "source": []
  }
 ],
 "metadata": {
  "kernelspec": {
   "display_name": "Python 3 (ipykernel)",
   "language": "python",
   "name": "python3"
  },
  "language_info": {
   "codemirror_mode": {
    "name": "ipython",
    "version": 3
   },
   "file_extension": ".py",
   "mimetype": "text/x-python",
   "name": "python",
   "nbconvert_exporter": "python",
   "pygments_lexer": "ipython3",
   "version": "3.13.5"
  }
 },
 "nbformat": 4,
 "nbformat_minor": 5
}
