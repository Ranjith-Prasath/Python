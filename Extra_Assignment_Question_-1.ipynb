{
 "cells": [
  {
   "cell_type": "code",
   "execution_count": 1,
   "id": "9befcbbe-2a46-40ac-a486-cf22f5915b42",
   "metadata": {},
   "outputs": [
    {
     "name": "stdout",
     "output_type": "stream",
     "text": [
      "HOPE AI\n"
     ]
    }
   ],
   "source": [
    "#print\n",
    "print(\"HOPE AI\")"
   ]
  },
  {
   "cell_type": "code",
   "execution_count": 2,
   "id": "ef4cae13-4d50-4329-a9b0-84b7305fb417",
   "metadata": {},
   "outputs": [
    {
     "name": "stdin",
     "output_type": "stream",
     "text": [
      "Enter your Institute name? :  HOPE AI\n"
     ]
    }
   ],
   "source": [
    "# buy input\n",
    "insName = input(\"Enter your Institute name? : \")"
   ]
  },
  {
   "cell_type": "code",
   "execution_count": 5,
   "id": "68d5563b-4253-4311-b204-4722b8d0b970",
   "metadata": {},
   "outputs": [
    {
     "name": "stdin",
     "output_type": "stream",
     "text": [
      "Enter your name:  Ranjith\n",
      "Enter your age : 15\n",
      "Enter your school name :  Guru School\n",
      "Enter your degree:  B.E CSD\n"
     ]
    }
   ],
   "source": [
    "# buy inputs\n",
    "name = input(\"Enter your name: \")\n",
    "age = int(input(\"Enter your age :\"))\n",
    "schlName = input(\"Enter your school name : \")\n",
    "degree = input(\"Enter your degree: \")\n"
   ]
  },
  {
   "cell_type": "code",
   "execution_count": 7,
   "id": "63a98b09-4c61-43f1-8d93-ebfd437b472d",
   "metadata": {},
   "outputs": [
    {
     "name": "stdout",
     "output_type": "stream",
     "text": [
      "a=  43\n",
      "b=  34\n",
      "add =  77\n"
     ]
    }
   ],
   "source": [
    "# Addition\n",
    "a = 43\n",
    "b = 34 \n",
    "add = a+b\n",
    "print(\"a= \", a)\n",
    "print(\"b= \",b)\n",
    "print(\"add = \",add)"
   ]
  },
  {
   "cell_type": "code",
   "execution_count": 10,
   "id": "eb9d51d9-27e6-467b-a204-bd8a737465fa",
   "metadata": {},
   "outputs": [
    {
     "name": "stdout",
     "output_type": "stream",
     "text": [
      "a=  43\n",
      "b=  34\n",
      "sub =  9\n"
     ]
    }
   ],
   "source": [
    "# Subtraction\n",
    "a = 43\n",
    "b = 34 \n",
    "sub = a-b\n",
    "print(\"a= \", a)\n",
    "print(\"b= \",b)\n",
    "print(\"sub = \",sub)"
   ]
  },
  {
   "cell_type": "code",
   "execution_count": 11,
   "id": "b595584b-3930-42c2-899a-d9405f873604",
   "metadata": {},
   "outputs": [
    {
     "name": "stdout",
     "output_type": "stream",
     "text": [
      "a=  63\n",
      "b=  97\n",
      "mul =  6111\n"
     ]
    }
   ],
   "source": [
    "#Multiplication\n",
    "a = 63\n",
    "b = 97\n",
    "mul = a*b\n",
    "print(\"a= \", a)\n",
    "print(\"b= \",b)\n",
    "print(\"mul = \",mul)"
   ]
  },
  {
   "cell_type": "code",
   "execution_count": 12,
   "id": "2ff14021-362e-4281-9cc4-07ab3bc34a4f",
   "metadata": {},
   "outputs": [
    {
     "name": "stdout",
     "output_type": "stream",
     "text": [
      "a=  76\n",
      "b=  31\n",
      "Float Div =  2.4516129032258065\n"
     ]
    }
   ],
   "source": [
    "#Division\n",
    "a = 76\n",
    "b = 31\n",
    "fDiv = a/b\n",
    "print(\"a= \", a)\n",
    "print(\"b= \",b)\n",
    "print(\"Float Div = \",fDiv)"
   ]
  },
  {
   "cell_type": "code",
   "execution_count": 13,
   "id": "2048bad7-0775-45a1-b20f-73121f91d5b6",
   "metadata": {},
   "outputs": [
    {
     "name": "stdout",
     "output_type": "stream",
     "text": [
      "a=  76\n",
      "b=  31\n",
      "Floor Div =  2\n"
     ]
    }
   ],
   "source": [
    "#Floor division\n",
    "a = 76\n",
    "b = 31\n",
    "floorDiv = a//b\n",
    "print(\"a= \", a)\n",
    "print(\"b= \",b)\n",
    "print(\"Floor Div = \",floorDiv)"
   ]
  },
  {
   "cell_type": "code",
   "execution_count": 14,
   "id": "c623be80-a0f9-4b6d-af58-199b8aa95b07",
   "metadata": {},
   "outputs": [
    {
     "name": "stdout",
     "output_type": "stream",
     "text": [
      "a=  76\n",
      "b=  31\n",
      "Modulo =  14\n"
     ]
    }
   ],
   "source": [
    "#Modulo\n",
    "a = 76\n",
    "b = 31\n",
    "Modulo = a%b\n",
    "print(\"a= \", a)\n",
    "print(\"b= \",b)\n",
    "print(\"Modulo = \",Modulo)"
   ]
  },
  {
   "cell_type": "code",
   "execution_count": 16,
   "id": "0c16443c-8104-41e8-8c6a-9da2a34990d3",
   "metadata": {},
   "outputs": [
    {
     "name": "stdout",
     "output_type": "stream",
     "text": [
      "a=  4\n",
      "b=  4\n",
      "Power =  256\n"
     ]
    }
   ],
   "source": [
    "#Power\n",
    "a = 4\n",
    "b = 4\n",
    "Power = a**b\n",
    "print(\"a= \", a)\n",
    "print(\"b= \",b)\n",
    "print(\"Power = \",Power)"
   ]
  },
  {
   "cell_type": "code",
   "execution_count": null,
   "id": "76ecab4c-37b1-4053-8b30-1def614c547b",
   "metadata": {},
   "outputs": [],
   "source": []
  }
 ],
 "metadata": {
  "kernelspec": {
   "display_name": "Python 3 (ipykernel)",
   "language": "python",
   "name": "python3"
  },
  "language_info": {
   "codemirror_mode": {
    "name": "ipython",
    "version": 3
   },
   "file_extension": ".py",
   "mimetype": "text/x-python",
   "name": "python",
   "nbconvert_exporter": "python",
   "pygments_lexer": "ipython3",
   "version": "3.13.5"
  }
 },
 "nbformat": 4,
 "nbformat_minor": 5
}
