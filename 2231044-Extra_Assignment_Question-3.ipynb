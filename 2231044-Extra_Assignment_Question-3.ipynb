{
 "cells": [
  {
   "cell_type": "code",
   "execution_count": 6,
   "id": "96d7196a-24ba-48c2-acd7-9f8441c9fa6d",
   "metadata": {},
   "outputs": [
    {
     "name": "stdin",
     "output_type": "stream",
     "text": [
      "Value:  10\n"
     ]
    },
    {
     "name": "stdout",
     "output_type": "stream",
     "text": [
      "CORRECT\n"
     ]
    }
   ],
   "source": [
    "i = int(input(\"Value: \"))\n",
    "if(i==10):\n",
    "    print(\"CORRECT\")\n",
    "    "
   ]
  },
  {
   "cell_type": "code",
   "execution_count": 7,
   "id": "38fe1cd3-636d-4192-b0c2-44b27363d32c",
   "metadata": {},
   "outputs": [
    {
     "name": "stdin",
     "output_type": "stream",
     "text": [
      "Enter the password :  HOPE@123\n"
     ]
    },
    {
     "name": "stdout",
     "output_type": "stream",
     "text": [
      "Your password is correct\n"
     ]
    }
   ],
   "source": [
    "pwd = input(\"Enter the password : \")\n",
    "if(pwd == \"HOPE@123\"):\n",
    "    print(\"Your password is correct\")"
   ]
  },
  {
   "cell_type": "code",
   "execution_count": 8,
   "id": "73d951bf-36d6-4749-b3de-03240c8faa1c",
   "metadata": {},
   "outputs": [
    {
     "name": "stdin",
     "output_type": "stream",
     "text": [
      "Enter an age  34\n"
     ]
    },
    {
     "name": "stdout",
     "output_type": "stream",
     "text": [
      "Uncle\n"
     ]
    }
   ],
   "source": [
    "age = int(input(\"Enter an age \"))\n",
    "if(age < 18):\n",
    "    print(\"Children\")\n",
    "elif(age >18 and age<30):\n",
    "    print(\"Adult\")\n",
    "elif(age >30 and age<50):\n",
    "    print(\"Uncle\")\n",
    "else:\n",
    "    print(\"Senior Citizens\")"
   ]
  },
  {
   "cell_type": "code",
   "execution_count": 10,
   "id": "ef9bd2b4-3130-48e4-8187-00b6ccfcdbc4",
   "metadata": {},
   "outputs": [
    {
     "name": "stdin",
     "output_type": "stream",
     "text": [
      "Enter a number:  -5\n"
     ]
    },
    {
     "name": "stdout",
     "output_type": "stream",
     "text": [
      "No is negative\n"
     ]
    }
   ],
   "source": [
    "number = int(input(\"Enter a number: \"))\n",
    "if(number < 0):\n",
    "    print(\"No is negative\")\n",
    "else :\n",
    "    print(\"No is positive\")"
   ]
  },
  {
   "cell_type": "code",
   "execution_count": 11,
   "id": "5f31e517-8834-460f-8a12-f91b388d6e99",
   "metadata": {},
   "outputs": [
    {
     "name": "stdin",
     "output_type": "stream",
     "text": [
      "Enter a number to check :  7\n"
     ]
    },
    {
     "name": "stdout",
     "output_type": "stream",
     "text": [
      "No is not divisible by 5\n"
     ]
    }
   ],
   "source": [
    "number2  = int(input(\"Enter a number to check : \"))\n",
    "if(number2 % 5 ==0):\n",
    "    print(\"No is divisible by 5\")\n",
    "else: \n",
    "    print(\"No is not divisible by 5\")"
   ]
  },
  {
   "cell_type": "code",
   "execution_count": null,
   "id": "cd9f625f-a8f3-4aa1-a09b-5ed9c95180db",
   "metadata": {},
   "outputs": [],
   "source": []
  }
 ],
 "metadata": {
  "kernelspec": {
   "display_name": "Python 3 (ipykernel)",
   "language": "python",
   "name": "python3"
  },
  "language_info": {
   "codemirror_mode": {
    "name": "ipython",
    "version": 3
   },
   "file_extension": ".py",
   "mimetype": "text/x-python",
   "name": "python",
   "nbconvert_exporter": "python",
   "pygments_lexer": "ipython3",
   "version": "3.13.5"
  }
 },
 "nbformat": 4,
 "nbformat_minor": 5
}
