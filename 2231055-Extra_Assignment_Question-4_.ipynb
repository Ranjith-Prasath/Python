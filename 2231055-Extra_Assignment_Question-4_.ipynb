{
 "cells": [
  {
   "cell_type": "code",
   "execution_count": null,
   "id": "79126707-ee67-404e-a3d4-befce44ec908",
   "metadata": {},
   "outputs": [],
   "source": [
    "# Create a class and function, and list out the items in the list\n"
   ]
  },
  {
   "cell_type": "code",
   "execution_count": 86,
   "id": "604f8a15-cfde-4612-a1c4-9b4f88781bab",
   "metadata": {},
   "outputs": [],
   "source": [
    "\n",
    "class SubfieldsInAI:\n",
    "    #def __init__(self, name):\n",
    "     #   self.name = name\n",
    "        \n",
    "    def subfields():\n",
    "        #print(self.name)\n",
    "        list = [\"Sub-fields in AI are :\", \"Machine Learning\", \"Neural Networks\",\"Vision\",\"Robotics\",\"Speech Processing\",\"Natural Language Processing\"]\n",
    "        for temp in list : \n",
    "            print(temp)\n"
   ]
  },
  {
   "cell_type": "code",
   "execution_count": 87,
   "id": "5e5be80c-5843-4cc6-828b-3abacf7c7297",
   "metadata": {},
   "outputs": [
    {
     "name": "stdout",
     "output_type": "stream",
     "text": [
      "Sub-fields in AI are :\n",
      "Machine Learning\n",
      "Neural Networks\n",
      "Vision\n",
      "Robotics\n",
      "Speech Processing\n",
      "Natural Language Processing\n"
     ]
    }
   ],
   "source": [
    "SubfieldsInAI.subfields()\n",
    "\n",
    "\n"
   ]
  },
  {
   "cell_type": "code",
   "execution_count": 90,
   "id": "bdb09b5e-1306-4ee8-806f-4341e24145f6",
   "metadata": {},
   "outputs": [],
   "source": [
    "# Create a function that checks whether the given number is Odd or Even\n",
    "\n",
    "def oddEven(num):\n",
    "            if(num%2==0):\n",
    "                print(num,\"is Even number\")\n",
    "            else:\n",
    "                print(num,\"is Odd number\")"
   ]
  },
  {
   "cell_type": "code",
   "execution_count": 91,
   "id": "958c42f2-82ee-491b-9c60-46fbb48c0a33",
   "metadata": {},
   "outputs": [
    {
     "name": "stdin",
     "output_type": "stream",
     "text": [
      "Enter a number:  4533\n"
     ]
    },
    {
     "name": "stdout",
     "output_type": "stream",
     "text": [
      "Enter a number:  4533\n",
      "4533 is Odd number\n"
     ]
    }
   ],
   "source": [
    "num = int(input(\"Enter a number: \"))\n",
    "print(\"Enter a number: \",num)\n",
    "oddEven(num)"
   ]
  },
  {
   "cell_type": "code",
   "execution_count": 92,
   "id": "25306b17-dfa7-49b7-9939-c411fdb38d05",
   "metadata": {},
   "outputs": [],
   "source": [
    " # Create a function that tells elegibility of marriage for male and female according to their\n",
    "#  age limit like 21 for male and 18 for female\n",
    "\n",
    "def Eligible(gender,age):\n",
    "        if(gender== \"male\" and age>=21):\n",
    "             print(\"ELIGIBLE\")\n",
    "        elif(gender==\"male\" and age<21):\n",
    "             print(\"NOT ELIGIBLE\")\n",
    "        elif(gender==\"female\" and age>=18):\n",
    "             print(\"ELIGIBLE\")\n",
    "        else:\n",
    "            print(\"NOT ELIGIBLE\")\n",
    "\n",
    "\n",
    "\n"
   ]
  },
  {
   "cell_type": "code",
   "execution_count": 93,
   "id": "e09f23ea-c435-4e3f-8b27-df12f7362943",
   "metadata": {},
   "outputs": [
    {
     "name": "stdin",
     "output_type": "stream",
     "text": [
      "Your Gender  male\n",
      "Your Age  23\n"
     ]
    },
    {
     "name": "stdout",
     "output_type": "stream",
     "text": [
      "Your Gender:  male\n",
      "Your Age:  23\n",
      "ELIGIBLE\n"
     ]
    }
   ],
   "source": [
    "Gender =input(\"Your Gender \")\n",
    "Age = int(input(\"Your Age \"))\n",
    "print(\"Your Gender: \",Gender)\n",
    "print(\"Your Age: \", Age)\n",
    "Eligible(Gender,Age)\n",
    "\n",
    "\n",
    "\n"
   ]
  },
  {
   "cell_type": "code",
   "execution_count": 94,
   "id": "6703b30e-172b-4504-a321-72ff03d462e1",
   "metadata": {},
   "outputs": [],
   "source": [
    " # calculate the percentage of your 10th mark\n",
    " #FindPercent.percentage()\n",
    "\n",
    "\n",
    "def percentage(totalMark):\n",
    "        \n",
    "        percent =  totalMark/5\n",
    "        return percent\n",
    "        \n",
    "        "
   ]
  },
  {
   "cell_type": "code",
   "execution_count": 95,
   "id": "481691ab-f669-4357-86dd-df3f47b5e2bc",
   "metadata": {},
   "outputs": [
    {
     "name": "stdin",
     "output_type": "stream",
     "text": [
      "Enter subject1 mark:  9\n",
      "Enter subject2 mark:  78\n",
      "Enter subject3 mark:  97\n",
      "Enter subject4 mark:  99\n",
      "Enter subject5 mark:  76\n"
     ]
    },
    {
     "name": "stdout",
     "output_type": "stream",
     "text": [
      "Subject1 : 9\n",
      "Subject2 : 78\n",
      "Subject3 : 97\n",
      "Subject4 : 99\n",
      "Subject5 : 76\n",
      "Total:  359\n",
      "Percentage:  71.8\n"
     ]
    }
   ],
   "source": [
    "sub1 = int(input(\"Enter subject1 mark: \"))\n",
    "sub2 = int(input(\"Enter subject2 mark: \"))\n",
    "sub3 = int(input(\"Enter subject3 mark: \"))\n",
    "sub4 = int(input(\"Enter subject4 mark: \"))\n",
    "sub5 = int(input(\"Enter subject5 mark: \"))\n",
    "\n",
    "print(\"Subject1 :\",sub1)\n",
    "print(\"Subject2 :\",sub2)\n",
    "print(\"Subject3 :\",sub3)\n",
    "print(\"Subject4 :\",sub4)\n",
    "print(\"Subject5 :\",sub5)\n",
    "totalMark = sub1+sub2 +sub3+ sub4 + sub5\n",
    "print(\"Total: \", totalMark)\n",
    "print(\"Percentage: \",percentage(totalMark))\n",
    "\n",
    "               "
   ]
  },
  {
   "cell_type": "code",
   "execution_count": 97,
   "id": "2a3acb80-9dd7-4923-9e69-09539d5a570d",
   "metadata": {},
   "outputs": [],
   "source": [
    "# triangle.triangle()\n",
    "\"\"\" Height:32\n",
    "Breadth:34\n",
    "Area formula: (Height*Breadth)/2\n",
    "Area of Triangle: 544.0\n",
    "Height1:2\n",
    "Height2:4\n",
    "Breadth:4\n",
    "Perimeter formula: Height1+Height2+Breadth\n",
    "Perimeter of Triangle: 10 \"\"\"\n",
    "\n",
    "\n",
    "def areatriangle(Height,aBreadth):\n",
    "        area = (Height*aBreadth)/2\n",
    "        print(\"Area of Triangle:\",area)\n",
    "\n",
    "def pertriangle(height1,height2,pbreadth):\n",
    "        perimeter = height1+height2+pbreadth\n",
    "        print(\"Perimeter of Triangle: \",perimeter)\n",
    "        \n"
   ]
  },
  {
   "cell_type": "code",
   "execution_count": 98,
   "id": "498c72d0-cf2d-47ed-8ca6-b7efb9ad41d2",
   "metadata": {},
   "outputs": [
    {
     "name": "stdin",
     "output_type": "stream",
     "text": [
      "Height 34\n",
      "aBreadth 43\n"
     ]
    },
    {
     "name": "stdout",
     "output_type": "stream",
     "text": [
      "Height:  34\n",
      "aBreadth:  43\n"
     ]
    },
    {
     "name": "stdin",
     "output_type": "stream",
     "text": [
      "Height1:  2\n",
      "Height2:  4\n",
      "pbreadth:  6\n"
     ]
    },
    {
     "name": "stdout",
     "output_type": "stream",
     "text": [
      "Height1:  2\n",
      "Height2:  4\n",
      "pbreadth:  6\n",
      "Area of Triangle: 731.0\n",
      "Perimeter of Triangle:  12\n"
     ]
    }
   ],
   "source": [
    "Height = int(input(\"Height\"))\n",
    "aBreadth = int(input(\"aBreadth\"))\n",
    "print(\"Height: \",Height)\n",
    "print(\"aBreadth: \",aBreadth)\n",
    "height1 = int(input(\"Height1: \"))\n",
    "height2 = int(input(\"Height2: \"))\n",
    "pbreadth = int(input(\"pbreadth: \"))\n",
    "print(\"Height1: \", height1)\n",
    "print(\"Height2: \", height2)\n",
    "print(\"pbreadth: \", pbreadth)\n",
    "areatriangle(Height,aBreadth)\n",
    "pertriangle(height1,height2,pbreadth)"
   ]
  },
  {
   "cell_type": "code",
   "execution_count": null,
   "id": "9fbd4e87-d853-43ce-9ea7-76e2c230facc",
   "metadata": {},
   "outputs": [],
   "source": []
  }
 ],
 "metadata": {
  "kernelspec": {
   "display_name": "Python 3 (ipykernel)",
   "language": "python",
   "name": "python3"
  },
  "language_info": {
   "codemirror_mode": {
    "name": "ipython",
    "version": 3
   },
   "file_extension": ".py",
   "mimetype": "text/x-python",
   "name": "python",
   "nbconvert_exporter": "python",
   "pygments_lexer": "ipython3",
   "version": "3.13.5"
  }
 },
 "nbformat": 4,
 "nbformat_minor": 5
}
