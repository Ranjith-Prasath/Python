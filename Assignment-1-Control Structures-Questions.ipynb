{
 "cells": [
  {
   "cell_type": "code",
   "execution_count": 1,
   "id": "b855d2b6-f4bf-4a7e-bdbf-983e7826af52",
   "metadata": {},
   "outputs": [
    {
     "name": "stdout",
     "output_type": "stream",
     "text": [
      "Welcome to Assignment-1\n"
     ]
    }
   ],
   "source": [
    "print(\"Welcome to Assignment-1\")"
   ]
  },
  {
   "cell_type": "code",
   "execution_count": 3,
   "id": "1a3db80a-ce39-465c-9117-6d4e3e77d046",
   "metadata": {},
   "outputs": [
    {
     "name": "stdout",
     "output_type": "stream",
     "text": [
      "Num1= 10\n",
      "Num2= 30\n",
      "Add= 40\n"
     ]
    }
   ],
   "source": [
    "Num1 = 10\n",
    "Num2 =30\n",
    "add = num1+ num2 \n",
    "print(\"Num1=\",Num1)\n",
    "print(\"Num2=\",Num2)\n",
    "print(\"Add=\",add)"
   ]
  },
  {
   "cell_type": "code",
   "execution_count": 23,
   "id": "2833ced3-19f2-4ded-8956-1fd60b63234f",
   "metadata": {},
   "outputs": [
    {
     "name": "stdin",
     "output_type": "stream",
     "text": [
      "Enter the BMI Index:   32.6\n"
     ]
    },
    {
     "name": "stdout",
     "output_type": "stream",
     "text": [
      "Obese Class 1\n"
     ]
    }
   ],
   "source": [
    "BMI = float(input(\"Enter the BMI Index: \"))\n",
    "\n",
    "if(BMI < 18.5):\n",
    "          print(\"Underweight\")\n",
    "elif(BMI >18.5 and BMI<24.5):\n",
    "          print(\"Normal Range\")\n",
    "elif(BMI >25 and BMI <29.9 ):\n",
    "          print(\"Overweight\")\n",
    "elif(BMI >30 and BMI< 34.9):\n",
    "          print(\"Obese Class 1\")\n",
    "elif(BMI >35 and BMI<39.9 ):\n",
    "          print(\"Obese Class 2\")\n",
    "elif(BMI >40):\n",
    "          print(\"Obese Class 3\")"
   ]
  },
  {
   "cell_type": "code",
   "execution_count": null,
   "id": "d27a8ece-7ecd-4b94-a35d-cd9a76a59bb0",
   "metadata": {},
   "outputs": [],
   "source": []
  }
 ],
 "metadata": {
  "kernelspec": {
   "display_name": "Python 3 (ipykernel)",
   "language": "python",
   "name": "python3"
  },
  "language_info": {
   "codemirror_mode": {
    "name": "ipython",
    "version": 3
   },
   "file_extension": ".py",
   "mimetype": "text/x-python",
   "name": "python",
   "nbconvert_exporter": "python",
   "pygments_lexer": "ipython3",
   "version": "3.13.5"
  }
 },
 "nbformat": 4,
 "nbformat_minor": 5
}
