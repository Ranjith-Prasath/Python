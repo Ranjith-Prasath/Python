{
 "cells": [
  {
   "cell_type": "code",
   "execution_count": null,
   "id": "79126707-ee67-404e-a3d4-befce44ec908",
   "metadata": {},
   "outputs": [],
   "source": [
    "# Create a class and function, and list out the items in the list\n"
   ]
  },
  {
   "cell_type": "code",
   "execution_count": 23,
   "id": "e00f4fb1-f024-466f-9108-9a3be8a8de83",
   "metadata": {},
   "outputs": [],
   "source": [
    "from week2 import pythonModule"
   ]
  },
  {
   "cell_type": "code",
   "execution_count": 24,
   "id": "a336147c-694d-4d5e-8f49-d8ef35f9a6c1",
   "metadata": {},
   "outputs": [
    {
     "name": "stdout",
     "output_type": "stream",
     "text": [
      "Sub-fields in AI are :\n",
      "Machine Learning\n",
      "Neural Networks\n",
      "Vision\n",
      "Robotics\n",
      "Speech Processing\n",
      "Natural Language Processing\n"
     ]
    }
   ],
   "source": [
    "pythonModule.subfields()"
   ]
  },
  {
   "cell_type": "code",
   "execution_count": 26,
   "id": "0d35c159-ad94-4264-8e5f-9b88fff4559e",
   "metadata": {},
   "outputs": [
    {
     "name": "stdout",
     "output_type": "stream",
     "text": [
      "5 is Odd number\n"
     ]
    },
    {
     "name": "stdin",
     "output_type": "stream",
     "text": [
      "Enter a number:  3463\n"
     ]
    },
    {
     "name": "stdout",
     "output_type": "stream",
     "text": [
      "Enter a number:  3463\n"
     ]
    }
   ],
   "source": [
    "pythonModule.oddEven(5)"
   ]
  },
  {
   "cell_type": "code",
   "execution_count": 29,
   "id": "84cc499d-db2a-43e1-baca-4b547f82baed",
   "metadata": {},
   "outputs": [
    {
     "name": "stdout",
     "output_type": "stream",
     "text": [
      "ELIGIBLE\n"
     ]
    },
    {
     "name": "stdin",
     "output_type": "stream",
     "text": [
      "Your Gender  female\n",
      "Your Age  14\n"
     ]
    },
    {
     "name": "stdout",
     "output_type": "stream",
     "text": [
      "Your Gender:  female\n",
      "Your Age:  14\n"
     ]
    }
   ],
   "source": [
    "pythonModule.Eligible(\"male\",34)"
   ]
  },
  {
   "cell_type": "code",
   "execution_count": null,
   "id": "34e47692-67d1-4f52-bb4e-8e92ed203431",
   "metadata": {},
   "outputs": [],
   "source": []
  }
 ],
 "metadata": {
  "kernelspec": {
   "display_name": "Python 3 (ipykernel)",
   "language": "python",
   "name": "python3"
  },
  "language_info": {
   "codemirror_mode": {
    "name": "ipython",
    "version": 3
   },
   "file_extension": ".py",
   "mimetype": "text/x-python",
   "name": "python",
   "nbconvert_exporter": "python",
   "pygments_lexer": "ipython3",
   "version": "3.13.5"
  }
 },
 "nbformat": 4,
 "nbformat_minor": 5
}
